{
 "cells": [
  {
   "cell_type": "code",
   "execution_count": 1,
   "metadata": {},
   "outputs": [],
   "source": [
    "import numpy as np\n",
    "import os\n",
    "import json\n",
    "import time\n",
    "import matplotlib.pyplot as plt\n",
    "from matplotlib.collections import PatchCollection\n",
    "from matplotlib.patches import Polygon\n",
    "import numpy as np\n",
    "import copy\n",
    "import itertools\n",
    "#from . import mask as maskUtils\n",
    "import os\n",
    "from collections import defaultdict\n",
    "import sys\n",
    "import scipy.sparse\n",
    "\n",
    "\n",
    "import Segms\n",
    "import bbox\n",
    "from COCO import COCO\n",
    "from JsonDataset import JsonDataset\n",
    "from roidb import combined_roidb_for_training\n",
    "\n"
   ]
  },
  {
   "cell_type": "code",
   "execution_count": 2,
   "metadata": {},
   "outputs": [
    {
     "name": "stdout",
     "output_type": "stream",
     "text": [
      "loading annotations into memory...\n",
      "Done (t=0.00s)\n",
      "creating index...\n",
      "index created!\n"
     ]
    }
   ],
   "source": [
    "roidb = combined_roidb_for_training(\n",
    "        'wheat2019_anchor_test.json', ())\n",
    "    "
   ]
  },
  {
   "cell_type": "code",
   "execution_count": 3,
   "metadata": {},
   "outputs": [],
   "source": [
    "#roidb"
   ]
  },
  {
   "cell_type": "code",
   "execution_count": 4,
   "metadata": {},
   "outputs": [],
   "source": [
    "from loader import RoIDataLoader\n",
    "import minibatch\n",
    "def add_training_inputs(roidb=None):\n",
    "    if roidb is not None:\n",
    "        # To make debugging easier you can set cfg.DATA_LOADER.NUM_THREADS = 1\n",
    "        roi_data_loader = RoIDataLoader(\n",
    "            roidb,\n",
    "            num_loaders=4, #cfg.DATA_LOADER.NUM_THREADS,\n",
    "            minibatch_queue_size=64, #cfg.DATA_LOADER.MINIBATCH_QUEUE_SIZE,\n",
    "            blobs_queue_capacity=8 # cfg.DATA_LOADER.BLOBS_QUEUE_CAPACITY\n",
    "        )\n",
    "        \n",
    "    blob_names = minibatch.get_minibatch_blob_names(is_training=True)"
   ]
  },
  {
   "cell_type": "code",
   "execution_count": 5,
   "metadata": {},
   "outputs": [],
   "source": [
    "add_training_inputs(roidb=roidb)"
   ]
  },
  {
   "cell_type": "code",
   "execution_count": null,
   "metadata": {},
   "outputs": [],
   "source": []
  },
  {
   "cell_type": "code",
   "execution_count": null,
   "metadata": {},
   "outputs": [],
   "source": []
  }
 ],
 "metadata": {
  "kernelspec": {
   "display_name": "Python 3.5.6 64-bit ('py2': conda)",
   "language": "python",
   "name": "python35664bitpy2conda4265758a449444d0895f2490e62f65ef"
  },
  "language_info": {
   "codemirror_mode": {
    "name": "ipython",
    "version": 3
   },
   "file_extension": ".py",
   "mimetype": "text/x-python",
   "name": "python",
   "nbconvert_exporter": "python",
   "pygments_lexer": "ipython3",
   "version": "3.5.6"
  }
 },
 "nbformat": 4,
 "nbformat_minor": 2
}
